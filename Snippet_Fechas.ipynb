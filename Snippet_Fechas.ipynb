{
 "cells": [
  {
   "cell_type": "markdown",
   "metadata": {},
   "source": [
    "Diferentes operaciones con fechas"
   ]
  },
  {
   "cell_type": "code",
   "execution_count": 12,
   "metadata": {},
   "outputs": [],
   "source": [
    "import datetime\n",
    "from scipy import optimize \n",
    "import pandas as pd\n",
    "import numpy as np"
   ]
  },
  {
   "cell_type": "code",
   "execution_count": 10,
   "metadata": {},
   "outputs": [
    {
     "name": "stdout",
     "output_type": "stream",
     "text": [
      "2012-06-26 00:00:00\n"
     ]
    }
   ],
   "source": [
    "date = '20120626'\n",
    "print(datetime.datetime.strptime(date, \"%Y%m%d\"))"
   ]
  },
  {
   "cell_type": "code",
   "execution_count": 13,
   "metadata": {},
   "outputs": [],
   "source": [
    "df = pd.read_csv('tes_d.csv')"
   ]
  },
  {
   "cell_type": "code",
   "execution_count": 14,
   "metadata": {},
   "outputs": [
    {
     "data": {
      "text/html": [
       "<div>\n",
       "<style scoped>\n",
       "    .dataframe tbody tr th:only-of-type {\n",
       "        vertical-align: middle;\n",
       "    }\n",
       "\n",
       "    .dataframe tbody tr th {\n",
       "        vertical-align: top;\n",
       "    }\n",
       "\n",
       "    .dataframe thead th {\n",
       "        text-align: right;\n",
       "    }\n",
       "</style>\n",
       "<table border=\"1\" class=\"dataframe\">\n",
       "  <thead>\n",
       "    <tr style=\"text-align: right;\">\n",
       "      <th></th>\n",
       "      <th>DATE</th>\n",
       "      <th>ISSUE</th>\n",
       "      <th>W_AVG_YIELD</th>\n",
       "      <th>W_AVG_PRICE</th>\n",
       "      <th>NOMINAL_D</th>\n",
       "      <th>FULL_PRICE_D</th>\n",
       "      <th>SOURCE</th>\n",
       "      <th>CUPON</th>\n",
       "      <th>ISSUE_DATE</th>\n",
       "      <th>EXPIRATION_DATE</th>\n",
       "      <th>TERM</th>\n",
       "      <th>DTM</th>\n",
       "      <th>DFI</th>\n",
       "      <th>DTNC</th>\n",
       "    </tr>\n",
       "  </thead>\n",
       "  <tbody>\n",
       "    <tr>\n",
       "      <th>40596</th>\n",
       "      <td>2019-10-31</td>\n",
       "      <td>TFIT15260826</td>\n",
       "      <td>5.584537</td>\n",
       "      <td>110.589359</td>\n",
       "      <td>2.550000e+11</td>\n",
       "      <td>2.854612e+11</td>\n",
       "      <td>201910</td>\n",
       "      <td>7.50</td>\n",
       "      <td>2011-08-26</td>\n",
       "      <td>2026-08-26</td>\n",
       "      <td>15</td>\n",
       "      <td>6.824658</td>\n",
       "      <td>8.186301</td>\n",
       "      <td>0.824658</td>\n",
       "    </tr>\n",
       "    <tr>\n",
       "      <th>40597</th>\n",
       "      <td>2019-10-31</td>\n",
       "      <td>TFIT16280428</td>\n",
       "      <td>5.843825</td>\n",
       "      <td>100.978094</td>\n",
       "      <td>3.135000e+11</td>\n",
       "      <td>3.261516e+11</td>\n",
       "      <td>201910</td>\n",
       "      <td>6.00</td>\n",
       "      <td>2012-04-28</td>\n",
       "      <td>2028-04-28</td>\n",
       "      <td>16</td>\n",
       "      <td>8.498630</td>\n",
       "      <td>7.512329</td>\n",
       "      <td>0.498630</td>\n",
       "    </tr>\n",
       "    <tr>\n",
       "      <th>40598</th>\n",
       "      <td>2019-10-31</td>\n",
       "      <td>TFIT16180930</td>\n",
       "      <td>6.041117</td>\n",
       "      <td>113.322018</td>\n",
       "      <td>8.150000e+10</td>\n",
       "      <td>9.310154e+10</td>\n",
       "      <td>201910</td>\n",
       "      <td>7.75</td>\n",
       "      <td>2014-09-18</td>\n",
       "      <td>2030-09-18</td>\n",
       "      <td>16</td>\n",
       "      <td>10.890411</td>\n",
       "      <td>5.120548</td>\n",
       "      <td>0.890411</td>\n",
       "    </tr>\n",
       "    <tr>\n",
       "      <th>40599</th>\n",
       "      <td>2019-10-31</td>\n",
       "      <td>TFIT16300632</td>\n",
       "      <td>6.175462</td>\n",
       "      <td>107.052449</td>\n",
       "      <td>7.800000e+10</td>\n",
       "      <td>8.534085e+10</td>\n",
       "      <td>201910</td>\n",
       "      <td>7.00</td>\n",
       "      <td>2016-06-30</td>\n",
       "      <td>2032-06-30</td>\n",
       "      <td>16</td>\n",
       "      <td>12.673973</td>\n",
       "      <td>3.336986</td>\n",
       "      <td>0.673973</td>\n",
       "    </tr>\n",
       "    <tr>\n",
       "      <th>40600</th>\n",
       "      <td>2019-10-31</td>\n",
       "      <td>TFIT16181034</td>\n",
       "      <td>6.230188</td>\n",
       "      <td>109.733253</td>\n",
       "      <td>1.680000e+11</td>\n",
       "      <td>1.847856e+11</td>\n",
       "      <td>201910</td>\n",
       "      <td>7.25</td>\n",
       "      <td>2018-10-18</td>\n",
       "      <td>2034-10-18</td>\n",
       "      <td>16</td>\n",
       "      <td>14.975342</td>\n",
       "      <td>1.035616</td>\n",
       "      <td>0.975342</td>\n",
       "    </tr>\n",
       "  </tbody>\n",
       "</table>\n",
       "</div>"
      ],
      "text/plain": [
       "             DATE         ISSUE  W_AVG_YIELD  W_AVG_PRICE     NOMINAL_D  \\\n",
       "40596  2019-10-31  TFIT15260826     5.584537   110.589359  2.550000e+11   \n",
       "40597  2019-10-31  TFIT16280428     5.843825   100.978094  3.135000e+11   \n",
       "40598  2019-10-31  TFIT16180930     6.041117   113.322018  8.150000e+10   \n",
       "40599  2019-10-31  TFIT16300632     6.175462   107.052449  7.800000e+10   \n",
       "40600  2019-10-31  TFIT16181034     6.230188   109.733253  1.680000e+11   \n",
       "\n",
       "       FULL_PRICE_D  SOURCE  CUPON  ISSUE_DATE EXPIRATION_DATE  TERM  \\\n",
       "40596  2.854612e+11  201910   7.50  2011-08-26      2026-08-26    15   \n",
       "40597  3.261516e+11  201910   6.00  2012-04-28      2028-04-28    16   \n",
       "40598  9.310154e+10  201910   7.75  2014-09-18      2030-09-18    16   \n",
       "40599  8.534085e+10  201910   7.00  2016-06-30      2032-06-30    16   \n",
       "40600  1.847856e+11  201910   7.25  2018-10-18      2034-10-18    16   \n",
       "\n",
       "             DTM       DFI      DTNC  \n",
       "40596   6.824658  8.186301  0.824658  \n",
       "40597   8.498630  7.512329  0.498630  \n",
       "40598  10.890411  5.120548  0.890411  \n",
       "40599  12.673973  3.336986  0.673973  \n",
       "40600  14.975342  1.035616  0.975342  "
      ]
     },
     "execution_count": 14,
     "metadata": {},
     "output_type": "execute_result"
    }
   ],
   "source": [
    "df.tail()"
   ]
  },
  {
   "cell_type": "code",
   "execution_count": 22,
   "metadata": {},
   "outputs": [
    {
     "data": {
      "text/plain": [
       "16"
      ]
     },
     "execution_count": 22,
     "metadata": {},
     "output_type": "execute_result"
    }
   ],
   "source": [
    "df.iloc[40600][9]"
   ]
  },
  {
   "cell_type": "code",
   "execution_count": 26,
   "metadata": {},
   "outputs": [
    {
     "name": "stdout",
     "output_type": "stream",
     "text": [
      "2019-10-31 00:00:00 2034-10-18 00:00:00\n"
     ]
    }
   ],
   "source": [
    "fecha_val = datetime.datetime.strptime(df.iloc[40600][0], \"%Y-%m-%d\")\n",
    "fecha_ven = datetime.datetime.strptime(df.iloc[40600][9], \"%Y-%m-%d\")\n",
    "print(fecha_val,fecha_ven)"
   ]
  },
  {
   "cell_type": "code",
   "execution_count": 34,
   "metadata": {},
   "outputs": [
    {
     "data": {
      "text/plain": [
       "14.975342465753425"
      ]
     },
     "execution_count": 34,
     "metadata": {},
     "output_type": "execute_result"
    }
   ],
   "source": [
    "term = (fecha_ven - fecha_val).days/365.\n",
    "term"
   ]
  },
  {
   "cell_type": "code",
   "execution_count": 36,
   "metadata": {},
   "outputs": [
    {
     "data": {
      "text/plain": [
       "2033"
      ]
     },
     "execution_count": 36,
     "metadata": {},
     "output_type": "execute_result"
    }
   ],
   "source": [
    "fecha_ven.year - 1"
   ]
  },
  {
   "cell_type": "code",
   "execution_count": 38,
   "metadata": {},
   "outputs": [
    {
     "data": {
      "text/plain": [
       "10"
      ]
     },
     "execution_count": 38,
     "metadata": {},
     "output_type": "execute_result"
    }
   ],
   "source": [
    "fecha_ven.month"
   ]
  },
  {
   "cell_type": "code",
   "execution_count": 39,
   "metadata": {},
   "outputs": [
    {
     "data": {
      "text/plain": [
       "18"
      ]
     },
     "execution_count": 39,
     "metadata": {},
     "output_type": "execute_result"
    }
   ],
   "source": [
    "fecha_ven.day"
   ]
  },
  {
   "cell_type": "code",
   "execution_count": 48,
   "metadata": {},
   "outputs": [
    {
     "data": {
      "text/plain": [
       "datetime.date(2033, 10, 18)"
      ]
     },
     "execution_count": 48,
     "metadata": {},
     "output_type": "execute_result"
    }
   ],
   "source": [
    "datetime.date(fecha_ven.year - 1,fecha_ven.month,fecha_ven.day)"
   ]
  },
  {
   "cell_type": "code",
   "execution_count": 63,
   "metadata": {},
   "outputs": [],
   "source": [
    "a = str(fecha_ven.year - 1) + str(fecha_ven.month) + str(fecha_ven.day)"
   ]
  },
  {
   "cell_type": "code",
   "execution_count": 69,
   "metadata": {},
   "outputs": [
    {
     "data": {
      "text/plain": [
       "18"
      ]
     },
     "execution_count": 69,
     "metadata": {},
     "output_type": "execute_result"
    }
   ],
   "source": [
    "datetime.datetime.strptime(a, \"%Y%m%d\")"
   ]
  },
  {
   "cell_type": "code",
   "execution_count": 74,
   "metadata": {},
   "outputs": [
    {
     "data": {
      "text/plain": [
       "14.0"
      ]
     },
     "execution_count": 74,
     "metadata": {},
     "output_type": "execute_result"
    }
   ],
   "source": [
    "term//1"
   ]
  },
  {
   "cell_type": "code",
   "execution_count": 75,
   "metadata": {},
   "outputs": [
    {
     "data": {
      "text/plain": [
       "0.9753424657534246"
      ]
     },
     "execution_count": 75,
     "metadata": {},
     "output_type": "execute_result"
    }
   ],
   "source": [
    "term%1"
   ]
  },
  {
   "cell_type": "code",
   "execution_count": 76,
   "metadata": {},
   "outputs": [
    {
     "data": {
      "text/plain": [
       "'2019-10-31'"
      ]
     },
     "execution_count": 76,
     "metadata": {},
     "output_type": "execute_result"
    }
   ],
   "source": [
    "df.DATE[40600]"
   ]
  },
  {
   "cell_type": "code",
   "execution_count": 90,
   "metadata": {},
   "outputs": [
    {
     "data": {
      "text/plain": [
       "str"
      ]
     },
     "execution_count": 90,
     "metadata": {},
     "output_type": "execute_result"
    }
   ],
   "source": [
    "type(df.EXPIRATION_DATE[40600])"
   ]
  },
  {
   "cell_type": "code",
   "execution_count": 138,
   "metadata": {},
   "outputs": [],
   "source": [
    "def get_term_deprecated(date_val_input,date_term_input):\n",
    "    '''\n",
    "    This function take two strings and get a list between this dates according the a integer number \n",
    "    getting from your difference.\n",
    "    Both dates must be strings from a time series pandas data frame\n",
    "    '''\n",
    "    date_val = datetime.datetime.strptime(date_val_input, \"%Y-%m-%d\").date()  #Date convert datetime to date\n",
    "    date_term = datetime.datetime.strptime(date_term_input, \"%Y-%m-%d\").date()\n",
    "    term = (date_term - date_val).days/365.\n",
    "    n = int(term//1)\n",
    "    term_list = []\n",
    "    base = 365.\n",
    "    for i in range(-n,0):\n",
    "        term_aux = date_term - datetime.date(date_term.year + i,date_term.month,date_term.day)\n",
    "        term_list.append(term_aux.days / base)\n",
    "        if i == -1:\n",
    "            term_list.append(0.)\n",
    "    return term_list"
   ]
  },
  {
   "cell_type": "code",
   "execution_count": 139,
   "metadata": {},
   "outputs": [
    {
     "data": {
      "text/plain": [
       "[14.008219178082191,\n",
       " 13.008219178082191,\n",
       " 12.008219178082191,\n",
       " 11.008219178082191,\n",
       " 10.005479452054795,\n",
       " 9.005479452054795,\n",
       " 8.005479452054795,\n",
       " 7.005479452054795,\n",
       " 6.002739726027397,\n",
       " 5.002739726027397,\n",
       " 4.002739726027397,\n",
       " 3.0027397260273974,\n",
       " 2.0,\n",
       " 1.0,\n",
       " 0.0]"
      ]
     },
     "execution_count": 139,
     "metadata": {},
     "output_type": "execute_result"
    }
   ],
   "source": [
    "get_term_deprecated(df.DATE[40600],df.EXPIRATION_DATE[40600])"
   ]
  },
  {
   "cell_type": "code",
   "execution_count": 241,
   "metadata": {},
   "outputs": [],
   "source": [
    "def get_term(date_val_input,date_term_input):\n",
    "    '''\n",
    "    This function take two strings and get a list between this dates according the a integer number \n",
    "    getting from your difference.\n",
    "    Both dates must be strings from a time series pandas data frame\n",
    "    '''\n",
    "    date_val = datetime.datetime.strptime(date_val_input, \"%Y-%m-%d\").date()  #Date convert datetime to date\n",
    "    date_term = datetime.datetime.strptime(date_term_input, \"%Y-%m-%d\").date()\n",
    "    term = (date_term - date_val).days/365.\n",
    "    n = int(term//1)\n",
    "    term_list = []\n",
    "    base = 365.\n",
    "    for i in range(-n+1, 0):\n",
    "        if i == -n + 1 :\n",
    "            term_list.append(0.)        \n",
    "        term_aux = term + i\n",
    "        term_list.append(term_aux)\n",
    "    return term_list, term"
   ]
  },
  {
   "cell_type": "code",
   "execution_count": 242,
   "metadata": {},
   "outputs": [
    {
     "data": {
      "text/plain": [
       "([0.0,\n",
       "  1.9753424657534246,\n",
       "  2.9753424657534246,\n",
       "  3.9753424657534246,\n",
       "  4.975342465753425,\n",
       "  5.975342465753425,\n",
       "  6.975342465753425,\n",
       "  7.975342465753425,\n",
       "  8.975342465753425,\n",
       "  9.975342465753425,\n",
       "  10.975342465753425,\n",
       "  11.975342465753425,\n",
       "  12.975342465753425,\n",
       "  13.975342465753425],\n",
       " 14.975342465753425)"
      ]
     },
     "execution_count": 242,
     "metadata": {},
     "output_type": "execute_result"
    }
   ],
   "source": [
    "get_term(df.DATE[40600],df.EXPIRATION_DATE[40600])"
   ]
  },
  {
   "cell_type": "code",
   "execution_count": 160,
   "metadata": {},
   "outputs": [
    {
     "name": "stdout",
     "output_type": "stream",
     "text": [
      "2019-10-31 00:00:00 2034-10-18 00:00:00\n"
     ]
    }
   ],
   "source": [
    "fecha_val = datetime.datetime.strptime(df.iloc[40600][0], \"%Y-%m-%d\")\n",
    "fecha_ven = datetime.datetime.strptime(df.iloc[40600][9], \"%Y-%m-%d\")\n",
    "print(fecha_val,fecha_ven)"
   ]
  },
  {
   "cell_type": "code",
   "execution_count": 238,
   "metadata": {},
   "outputs": [
    {
     "data": {
      "text/plain": [
       "([0.0,\n",
       "  0.01095890410958944,\n",
       "  1.0109589041095894,\n",
       "  2.0109589041095894,\n",
       "  3.0109589041095894,\n",
       "  4.010958904109589,\n",
       "  5.010958904109589,\n",
       "  6.010958904109589,\n",
       "  7.010958904109589,\n",
       "  8.01095890410959,\n",
       "  9.01095890410959,\n",
       "  10.01095890410959,\n",
       "  11.01095890410959,\n",
       "  12.01095890410959,\n",
       "  13.01095890410959,\n",
       "  14.01095890410959,\n",
       "  15.01095890410959],\n",
       " 15.01095890410959)"
      ]
     },
     "execution_count": 238,
     "metadata": {},
     "output_type": "execute_result"
    }
   ],
   "source": [
    "a = get_term('2019-10-18',df.EXPIRATION_DATE[40600])\n",
    "a"
   ]
  },
  {
   "cell_type": "code",
   "execution_count": 167,
   "metadata": {},
   "outputs": [
    {
     "name": "stdout",
     "output_type": "stream",
     "text": [
      "0.0\n",
      "4.000000000000146\n",
      "369.00000000000017\n",
      "734.0000000000001\n",
      "1099.0000000000002\n",
      "1464.0000000000002\n",
      "1829.0000000000002\n",
      "2194.0\n",
      "2559.0\n",
      "2924.0\n",
      "3289.0\n",
      "3654.0\n",
      "4019.0\n",
      "4384.0\n",
      "4749.0\n",
      "5114.0\n",
      "5479.0\n"
     ]
    }
   ],
   "source": [
    "for i in a:\n",
    "    print(i * 365)"
   ]
  },
  {
   "cell_type": "code",
   "execution_count": 173,
   "metadata": {},
   "outputs": [
    {
     "data": {
      "text/plain": [
       "366.0"
      ]
     },
     "execution_count": 173,
     "metadata": {},
     "output_type": "execute_result"
    }
   ],
   "source": [
    "leapyr(2020)"
   ]
  },
  {
   "cell_type": "code",
   "execution_count": 174,
   "metadata": {},
   "outputs": [
    {
     "data": {
      "text/plain": [
       "365.0"
      ]
     },
     "execution_count": 174,
     "metadata": {},
     "output_type": "execute_result"
    }
   ],
   "source": [
    "leapyr(2019)"
   ]
  },
  {
   "cell_type": "code",
   "execution_count": 172,
   "metadata": {},
   "outputs": [],
   "source": [
    "# https://stackoverflow.com/questions/11621740/how-to-determine-whether-a-year-is-a-leap-year\n",
    "def leapyr(n):\n",
    "    if n % 400 == 0:\n",
    "        return 366.\n",
    "    if n % 100 == 0:\n",
    "        return 365.\n",
    "    if n % 4 == 0:\n",
    "        return 366.\n",
    "    else:\n",
    "        return 365."
   ]
  },
  {
   "cell_type": "code",
   "execution_count": 220,
   "metadata": {},
   "outputs": [],
   "source": [
    "def get_term_leap(date_val_input,date_term_input):\n",
    "    '''\n",
    "    This function take two strings and get a list between this dates according the a integer number \n",
    "    getting from your difference.\n",
    "    Both dates must be strings from a time series pandas data frame\n",
    "    '''\n",
    "    date_val = datetime.datetime.strptime(date_val_input, \"%Y-%m-%d\").date()  #Date convert datetime to date\n",
    "    date_term = datetime.datetime.strptime(date_term_input, \"%Y-%m-%d\").date()\n",
    "    term = (date_term - date_val).days/365.\n",
    "    n = int(term//1)\n",
    "    term_list = []\n",
    "    for i in range(-n,0):\n",
    "        base = leapyr(date_term.year + i)\n",
    "        term_aux = (datetime.date(date_term.year + i,date_term.month,date_term.day) - date_val).days / base\n",
    "        if term_aux < 0:\n",
    "            term_list.append(0.)\n",
    "        else:\n",
    "            term_list.append(term_aux)\n",
    "    return term_list"
   ]
  },
  {
   "cell_type": "code",
   "execution_count": 221,
   "metadata": {},
   "outputs": [
    {
     "data": {
      "text/plain": [
       "[0.0,\n",
       " 0.9972677595628415,\n",
       " 2.0,\n",
       " 3.0,\n",
       " 4.0,\n",
       " 4.9890710382513666,\n",
       " 6.002739726027397,\n",
       " 7.002739726027397,\n",
       " 8.002739726027396,\n",
       " 8.980874316939891,\n",
       " 10.005479452054795,\n",
       " 11.005479452054795,\n",
       " 12.005479452054795,\n",
       " 12.972677595628415,\n",
       " 14.008219178082191]"
      ]
     },
     "execution_count": 221,
     "metadata": {},
     "output_type": "execute_result"
    }
   ],
   "source": [
    "get_term_leap('2019-10-19',df.EXPIRATION_DATE[40600])"
   ]
  },
  {
   "cell_type": "code",
   "execution_count": 226,
   "metadata": {},
   "outputs": [
    {
     "data": {
      "text/plain": [
       "[0.0,\n",
       " 0.008219178082191192,\n",
       " 1.0082191780821912,\n",
       " 2.008219178082191,\n",
       " 3.008219178082191,\n",
       " 4.008219178082191,\n",
       " 5.008219178082191,\n",
       " 6.008219178082191,\n",
       " 7.008219178082191,\n",
       " 8.008219178082191,\n",
       " 9.008219178082191,\n",
       " 10.008219178082191,\n",
       " 11.008219178082191,\n",
       " 12.008219178082191,\n",
       " 13.008219178082191,\n",
       " 14.008219178082191,\n",
       " 15.008219178082191]"
      ]
     },
     "execution_count": 226,
     "metadata": {},
     "output_type": "execute_result"
    }
   ],
   "source": [
    "get_term('2019-10-19','2034-10-18')"
   ]
  },
  {
   "cell_type": "code",
   "execution_count": 227,
   "metadata": {},
   "outputs": [
    {
     "data": {
      "text/plain": [
       "[0.0,\n",
       " 0.01095890410958944,\n",
       " 1.0109589041095894,\n",
       " 2.0109589041095894,\n",
       " 3.0109589041095894,\n",
       " 4.010958904109589,\n",
       " 5.010958904109589,\n",
       " 6.010958904109589,\n",
       " 7.010958904109589,\n",
       " 8.01095890410959,\n",
       " 9.01095890410959,\n",
       " 10.01095890410959,\n",
       " 11.01095890410959,\n",
       " 12.01095890410959,\n",
       " 13.01095890410959,\n",
       " 14.01095890410959,\n",
       " 15.01095890410959]"
      ]
     },
     "execution_count": 227,
     "metadata": {},
     "output_type": "execute_result"
    }
   ],
   "source": [
    "get_term('2019-10-18','2034-10-18')"
   ]
  },
  {
   "cell_type": "code",
   "execution_count": 228,
   "metadata": {},
   "outputs": [
    {
     "data": {
      "text/plain": [
       "[0.0,\n",
       " 0.013698630136985912,\n",
       " 1.013698630136986,\n",
       " 2.013698630136986,\n",
       " 3.013698630136986,\n",
       " 4.013698630136986,\n",
       " 5.013698630136986,\n",
       " 6.013698630136986,\n",
       " 7.013698630136986,\n",
       " 8.013698630136986,\n",
       " 9.013698630136986,\n",
       " 10.013698630136986,\n",
       " 11.013698630136986,\n",
       " 12.013698630136986,\n",
       " 13.013698630136986,\n",
       " 14.013698630136986,\n",
       " 15.013698630136986]"
      ]
     },
     "execution_count": 228,
     "metadata": {},
     "output_type": "execute_result"
    }
   ],
   "source": [
    "get_term('2019-10-17','2034-10-18')"
   ]
  },
  {
   "cell_type": "code",
   "execution_count": 229,
   "metadata": {},
   "outputs": [
    {
     "data": {
      "text/plain": [
       "[0.0,\n",
       " 0.00547945205479472,\n",
       " 1.0054794520547947,\n",
       " 2.0054794520547947,\n",
       " 3.0054794520547947,\n",
       " 4.005479452054795,\n",
       " 5.005479452054795,\n",
       " 6.005479452054795,\n",
       " 7.005479452054795,\n",
       " 8.005479452054795,\n",
       " 9.005479452054795,\n",
       " 10.005479452054795,\n",
       " 11.005479452054795,\n",
       " 12.005479452054795,\n",
       " 13.005479452054795,\n",
       " 14.005479452054795,\n",
       " 15.005479452054795]"
      ]
     },
     "execution_count": 229,
     "metadata": {},
     "output_type": "execute_result"
    }
   ],
   "source": [
    "get_term('2019-10-20','2034-10-18')"
   ]
  },
  {
   "cell_type": "code",
   "execution_count": null,
   "metadata": {},
   "outputs": [],
   "source": []
  }
 ],
 "metadata": {
  "kernelspec": {
   "display_name": "Python 3",
   "language": "python",
   "name": "python3"
  },
  "language_info": {
   "codemirror_mode": {
    "name": "ipython",
    "version": 3
   },
   "file_extension": ".py",
   "mimetype": "text/x-python",
   "name": "python",
   "nbconvert_exporter": "python",
   "pygments_lexer": "ipython3",
   "version": "3.7.3"
  }
 },
 "nbformat": 4,
 "nbformat_minor": 2
}
