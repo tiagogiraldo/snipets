{
 "cells": [
  {
   "cell_type": "markdown",
   "metadata": {},
   "source": [
    "# Moving files\n",
    "\n",
    "This code move files from a directory to another directories. Tensorflow and pytorch are now working with classes in folders, for that reason this code intend move data in separated directories acording to their classes.\n",
    "\n",
    "It was made for linux, for windows remember add 'r' at the beginning strings path"
   ]
  },
  {
   "cell_type": "code",
   "execution_count": 1,
   "metadata": {},
   "outputs": [],
   "source": [
    "# loading required libraries\n",
    "import os \n",
    "import shutil\n",
    "import pandas as pd"
   ]
  },
  {
   "cell_type": "code",
   "execution_count": 2,
   "metadata": {},
   "outputs": [],
   "source": [
    "# Reading dataframe with information. In this case, there are two columns: image_id and dx. \n",
    "# Necessaries to move the files.\n",
    "\n",
    "df = pd.read_csv('HAM10000_metadata.csv')"
   ]
  },
  {
   "cell_type": "code",
   "execution_count": 3,
   "metadata": {},
   "outputs": [
    {
     "data": {
      "text/html": [
       "<div>\n",
       "<style scoped>\n",
       "    .dataframe tbody tr th:only-of-type {\n",
       "        vertical-align: middle;\n",
       "    }\n",
       "\n",
       "    .dataframe tbody tr th {\n",
       "        vertical-align: top;\n",
       "    }\n",
       "\n",
       "    .dataframe thead th {\n",
       "        text-align: right;\n",
       "    }\n",
       "</style>\n",
       "<table border=\"1\" class=\"dataframe\">\n",
       "  <thead>\n",
       "    <tr style=\"text-align: right;\">\n",
       "      <th></th>\n",
       "      <th>lesion_id</th>\n",
       "      <th>image_id</th>\n",
       "      <th>dx</th>\n",
       "      <th>dx_type</th>\n",
       "      <th>age</th>\n",
       "      <th>sex</th>\n",
       "      <th>localization</th>\n",
       "    </tr>\n",
       "  </thead>\n",
       "  <tbody>\n",
       "    <tr>\n",
       "      <td>0</td>\n",
       "      <td>HAM_0000118</td>\n",
       "      <td>ISIC_0027419</td>\n",
       "      <td>BKL</td>\n",
       "      <td>histo</td>\n",
       "      <td>80.0</td>\n",
       "      <td>male</td>\n",
       "      <td>scalp</td>\n",
       "    </tr>\n",
       "    <tr>\n",
       "      <td>1</td>\n",
       "      <td>HAM_0000118</td>\n",
       "      <td>ISIC_0025030</td>\n",
       "      <td>BKL</td>\n",
       "      <td>histo</td>\n",
       "      <td>80.0</td>\n",
       "      <td>male</td>\n",
       "      <td>scalp</td>\n",
       "    </tr>\n",
       "    <tr>\n",
       "      <td>2</td>\n",
       "      <td>HAM_0002730</td>\n",
       "      <td>ISIC_0026769</td>\n",
       "      <td>BKL</td>\n",
       "      <td>histo</td>\n",
       "      <td>80.0</td>\n",
       "      <td>male</td>\n",
       "      <td>scalp</td>\n",
       "    </tr>\n",
       "    <tr>\n",
       "      <td>3</td>\n",
       "      <td>HAM_0002730</td>\n",
       "      <td>ISIC_0025661</td>\n",
       "      <td>BKL</td>\n",
       "      <td>histo</td>\n",
       "      <td>80.0</td>\n",
       "      <td>male</td>\n",
       "      <td>scalp</td>\n",
       "    </tr>\n",
       "    <tr>\n",
       "      <td>4</td>\n",
       "      <td>HAM_0001466</td>\n",
       "      <td>ISIC_0031633</td>\n",
       "      <td>BKL</td>\n",
       "      <td>histo</td>\n",
       "      <td>75.0</td>\n",
       "      <td>male</td>\n",
       "      <td>ear</td>\n",
       "    </tr>\n",
       "  </tbody>\n",
       "</table>\n",
       "</div>"
      ],
      "text/plain": [
       "     lesion_id      image_id   dx dx_type   age   sex localization\n",
       "0  HAM_0000118  ISIC_0027419  BKL   histo  80.0  male        scalp\n",
       "1  HAM_0000118  ISIC_0025030  BKL   histo  80.0  male        scalp\n",
       "2  HAM_0002730  ISIC_0026769  BKL   histo  80.0  male        scalp\n",
       "3  HAM_0002730  ISIC_0025661  BKL   histo  80.0  male        scalp\n",
       "4  HAM_0001466  ISIC_0031633  BKL   histo  75.0  male          ear"
      ]
     },
     "execution_count": 3,
     "metadata": {},
     "output_type": "execute_result"
    }
   ],
   "source": [
    "df.head()"
   ]
  },
  {
   "cell_type": "code",
   "execution_count": 39,
   "metadata": {},
   "outputs": [],
   "source": [
    "# Files main path\n",
    "main_path = '/media/user/disco_1tb_2/data/melanoma/ham10000/input'\n",
    "\n",
    "# Create new column with mew location file\n",
    "df['main_loc'] = df.apply(lambda x: os.path.join(main_path,x.image_id + \".jpg\"),axis=1)\n",
    "df['new_loc'] = df.apply(lambda x: os.path.join(main_path,x.dx + \"/\"+x.image_id + \".jpg\"),axis=1)\n",
    "df['new_dir'] = df.apply(lambda x: os.path.join(main_path,x.dx),axis=1)"
   ]
  },
  {
   "cell_type": "code",
   "execution_count": 40,
   "metadata": {},
   "outputs": [
    {
     "name": "stdout",
     "output_type": "stream",
     "text": [
      "/media/user/disco_1tb_2/data/melanoma/ham10000/input/ISIC_0027419.jpg\n",
      "/media/user/disco_1tb_2/data/melanoma/ham10000/input/BKL/ISIC_0027419.jpg\n",
      "/media/user/disco_1tb_2/data/melanoma/ham10000/input/BKL\n"
     ]
    }
   ],
   "source": [
    "# Sanity check\n",
    "print(df['main_loc'][0])\n",
    "print(df['new_loc'][0])\n",
    "print(df['new_dir'] [0])"
   ]
  },
  {
   "cell_type": "code",
   "execution_count": 41,
   "metadata": {},
   "outputs": [],
   "source": [
    "# For loop that move files from main directory \n",
    "for i in range(len(df)):\n",
    "    try:\n",
    "        # Try move the file if the new directory exist.\n",
    "        shutil.move(df['main_loc'][i],df['new_loc'][i])\n",
    "    except:\n",
    "        # Create the new directory if it doesn't exist, then move the file to a new location.\n",
    "        os.makedirs(df['new_dir'][i])\n",
    "        shutil.move(df['main_loc'][i],df['new_loc'][i])"
   ]
  },
  {
   "cell_type": "code",
   "execution_count": null,
   "metadata": {},
   "outputs": [],
   "source": []
  }
 ],
 "metadata": {
  "kernelspec": {
   "display_name": "Python 3",
   "language": "python",
   "name": "python3"
  },
  "language_info": {
   "codemirror_mode": {
    "name": "ipython",
    "version": 3
   },
   "file_extension": ".py",
   "mimetype": "text/x-python",
   "name": "python",
   "nbconvert_exporter": "python",
   "pygments_lexer": "ipython3",
   "version": "3.7.4"
  }
 },
 "nbformat": 4,
 "nbformat_minor": 2
}
